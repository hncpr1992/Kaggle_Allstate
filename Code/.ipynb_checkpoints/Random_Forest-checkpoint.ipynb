{
 "cells": [
  {
   "cell_type": "markdown",
   "metadata": {},
   "source": [
    "# Data load in and transformation"
   ]
  },
  {
   "cell_type": "code",
   "execution_count": 2,
   "metadata": {
    "collapsed": true
   },
   "outputs": [],
   "source": [
    "import numpy as np\n",
    "import pandas as pd\n",
    "import matplotlib.pyplot as plt\n",
    "import seaborn as sns\n",
    "%matplotlib inline\n",
    "import warnings\n",
    "from sklearn.cross_validation import train_test_split\n",
    "\n",
    "warnings.filterwarnings('ignore')\n",
    "pd.options.display.max_columns = 200\n",
    "pd.options.display.max_rows = 200\n",
    "\n",
    "\n",
    "\n",
    "\n",
    "\n",
    "train = pd.read_csv(\"../Data/train.csv\")\n",
    "test = pd.read_csv(\"../Data/test.csv\")\n",
    "loss = train[\"loss\"]\n",
    "train_id = train[\"id\"]\n",
    "test_id = test['id']\n",
    "\n",
    "del train[\"loss\"]\n",
    "del train[\"id\"]\n",
    "del test[\"id\"]\n",
    "\n",
    "# remove NZV\n",
    "catFeature = []\n",
    "for i in range(1,116):\n",
    "    catFeature.append(\"cat%i\" % i)\n",
    "\n",
    "ratio = []\n",
    "\n",
    "for col in catFeature:\n",
    "    max_ratio = train[col].value_counts().max()/len(train[col])\n",
    "    ratio.append(max_ratio)\n",
    "\n",
    "rmFeature = np.array(catFeature)[np.array(ratio)>=1]\n",
    "\n",
    "for i in rmFeature:\n",
    "    del train[i]\n",
    "    del test[i]    \n",
    "\n",
    "# reduce the number of categories in some cat variable\n",
    "train[\"cat109\"] = train[\"cat109\"].apply(lambda x: \"other\" if x not in (\"BI\",\"AB\") else x)\n",
    "test[\"cat109\"] = test[\"cat109\"].apply(lambda x: \"other\" if x not in (\"BI\",\"AB\") else x)\n",
    "\n",
    "cat_110_domi = train.cat110.value_counts().index[(train.cat110.value_counts()/len(train.cat109))>0.01].values\n",
    "train[\"cat110\"] = train[\"cat110\"].apply(lambda x: \"other\" if x not in cat_110_domi else x)\n",
    "test[\"cat109\"] = test[\"cat109\"].apply(lambda x: \"other\" if x not in (\"BI\",\"AB\") else x)\n",
    "cat_113_domi = train.cat113.value_counts().index[(train.cat113.value_counts()/len(train.cat113))>0.005].values\n",
    "train[\"cat113\"] = train[\"cat113\"].apply(lambda x: \"other\" if x not in cat_113_domi else x)\n",
    "test[\"cat109\"] = test[\"cat109\"].apply(lambda x: \"other\" if x not in (\"BI\",\"AB\") else x)\n",
    "\n",
    "# assign train to X\n",
    "X = train\n",
    "\n",
    "# Categorize the continuous variables\n",
    "breakpoint_normal = [-0.01,0.1,0.2,0.3,0.4,0.5,0.6,0.7,0.8,0.9,1.0]\n",
    "breakpoint2 = [-0.01,0.1,0.2,0.3,0.4,0.5,0.6,0.7,0.8,1.0]\n",
    "breakpoint4 = [-0.01,0.2,0.3,0.4,0.5,0.6,0.7,0.8,0.9,1.0]\n",
    "breakpoint5 = [-0.01,0.3,0.4,0.5,0.6,0.7,0.8,0.9,1.0]\n",
    "breakpoint8 = [-0.01,0.3,0.4,0.5,0.6,0.7,0.8,0.9,1.0]\n",
    "breakpoint14 = [-0.01,0.2,0.3,0.4,0.5,0.6,0.7,0.8,1.0]\n",
    "breakpoint_special = [breakpoint2,breakpoint4,breakpoint5,breakpoint8,breakpoint14]\n",
    "\n",
    "columns_normal_cut = ['cont1', 'cont3', 'cont6', 'cont7', 'cont9', 'cont10', 'cont11', 'cont12', 'cont13',]\n",
    "columns_special_cut = ['cont2','cont4','cont5','cont8','cont14']\n",
    "\n",
    "# normal cut\n",
    "for i in columns_normal_cut:\n",
    "    X[i] = pd.cut(X[i],breakpoint_normal)\n",
    "    test[i] = pd.cut(test[i],breakpoint_normal)\n",
    "\n",
    "# special cut\n",
    "k = 0\n",
    "for i in columns_special_cut:\n",
    "    X[i] = pd.cut(X[i],breakpoint_special[k])\n",
    "    test[i] = pd.cut(test[i],breakpoint_special[k])\n",
    "\n",
    "test.index = range(188318,188318+125546)\n",
    "ALL = pd.concat([X,test],axis=0)\n",
    "\n",
    "# transform the cats to dummy\n",
    "obj = ALL.dtypes.index[ALL.dtypes.apply(lambda x: x in [\"object\",\"category\"])]\n",
    "for i in obj:\n",
    "    new_cat = pd.get_dummies(ALL[i],prefix=i,drop_first=True)\n",
    "    del ALL[i]\n",
    "    ALL = pd.concat([ALL,new_cat],axis = 1)\n",
    "\n",
    "X = ALL.ix[:188317,:]\n",
    "test = ALL.ix[188318:,:]\n",
    "del ALL"
   ]
  },
  {
   "cell_type": "markdown",
   "metadata": {},
   "source": [
    "# check the shape"
   ]
  },
  {
   "cell_type": "code",
   "execution_count": 21,
   "metadata": {
    "collapsed": false
   },
   "outputs": [],
   "source": [
    "assert X.shape[1] == test.shape[1]"
   ]
  },
  {
   "cell_type": "markdown",
   "metadata": {},
   "source": [
    "# Model"
   ]
  },
  {
   "cell_type": "code",
   "execution_count": 22,
   "metadata": {
    "collapsed": true
   },
   "outputs": [],
   "source": [
    "# build random forest\n",
    "from sklearn.ensemble import RandomForestRegressor\n",
    "\n",
    "rft = RandomForestRegressor(n_estimators=350, max_features=\"sqrt\", criterion='mse',\n",
    "                            n_jobs=-1, random_state=42, verbose=3)"
   ]
  },
  {
   "cell_type": "code",
   "execution_count": 23,
   "metadata": {
    "collapsed": true
   },
   "outputs": [],
   "source": [
    "y_log = np.log(loss)"
   ]
  },
  {
   "cell_type": "code",
   "execution_count": 24,
   "metadata": {
    "collapsed": false,
    "scrolled": true
   },
   "outputs": [
    {
     "name": "stdout",
     "output_type": "stream",
     "text": [
      "building tree 1 of 350\n",
      "building tree 2 of 350\n",
      "building tree 3 of 350\n",
      "building tree 4 of 350\n",
      "building tree 5 of 350\n",
      "building tree 6 of 350\n",
      "building tree 7 of 350\n",
      "building tree 8 of 350\n",
      "building tree 9 of 350\n",
      "building tree 10 of 350\n",
      "building tree 11 of 350\n",
      "building tree 12 of 350\n",
      "building tree 13 of 350\n",
      "building tree 14 of 350\n",
      "building tree 15 of 350\n",
      "building tree 16 of 350\n",
      "building tree 17 of 350\n",
      "building tree 18 of 350\n",
      "building tree 19 of 350\n",
      "building tree 20 of 350\n",
      "building tree 21 of 350\n",
      "building tree 22 of 350\n",
      "building tree 23 of 350\n",
      "building tree 24 of 350\n"
     ]
    },
    {
     "name": "stderr",
     "output_type": "stream",
     "text": [
      "[Parallel(n_jobs=-1)]: Done  16 tasks      | elapsed:    9.5s\n"
     ]
    },
    {
     "name": "stdout",
     "output_type": "stream",
     "text": [
      "building tree 25 of 350\n",
      "building tree 26 of 350\n",
      "building tree 27 of 350\n",
      "building tree 28 of 350\n",
      "building tree 29 of 350\n",
      "building tree 30 of 350\n",
      "building tree 31 of 350\n",
      "building tree 32 of 350\n",
      "building tree 33 of 350\n",
      "building tree 34 of 350\n",
      "building tree 35 of 350\n",
      "building tree 36 of 350\n",
      "building tree 37 of 350\n",
      "building tree 38 of 350\n",
      "building tree 39 of 350\n",
      "building tree 40 of 350\n",
      "building tree 41 of 350\n",
      "building tree 42 of 350\n",
      "building tree 43 of 350\n",
      "building tree 44 of 350\n",
      "building tree 45 of 350\n",
      "building tree 46 of 350\n",
      "building tree 47 of 350\n",
      "building tree 48 of 350\n",
      "building tree 49 of 350\n",
      "building tree 50 of 350\n",
      "building tree 51 of 350\n",
      "building tree 52 of 350\n",
      "building tree 53 of 350\n",
      "building tree 54 of 350\n",
      "building tree 55 of 350\n",
      "building tree 56 of 350\n",
      "building tree 57 of 350\n",
      "building tree 58 of 350\n",
      "building tree 59 of 350\n",
      "building tree 60 of 350\n",
      "building tree 61 of 350\n",
      "building tree 62 of 350\n",
      "building tree 63 of 350\n",
      "building tree 64 of 350\n",
      "building tree 65 of 350\n",
      "building tree 66 of 350\n",
      "building tree 67 of 350\n",
      "building tree 68 of 350\n",
      "building tree 69 of 350\n",
      "building tree 70 of 350\n",
      "building tree 71 of 350\n",
      "building tree 72 of 350\n",
      "building tree 73 of 350\n",
      "building tree 74 of 350\n",
      "building tree 75 of 350\n",
      "building tree 76 of 350\n",
      "building tree 77 of 350\n",
      "building tree 78 of 350\n",
      "building tree 79 of 350\n",
      "building tree 80 of 350\n",
      "building tree 81 of 350\n",
      "building tree 82 of 350\n",
      "building tree 83 of 350\n",
      "building tree 84 of 350\n",
      "building tree 85 of 350\n",
      "building tree 86 of 350\n",
      "building tree 87 of 350\n",
      "building tree 88 of 350\n",
      "building tree 89 of 350\n",
      "building tree 90 of 350\n",
      "building tree 91 of 350\n",
      "building tree 92 of 350\n",
      "building tree 93 of 350\n",
      "building tree 94 of 350\n",
      "building tree 95 of 350\n",
      "building tree 96 of 350\n",
      "building tree 97 of 350\n",
      "building tree 98 of 350\n",
      "building tree 99 of 350\n",
      "building tree 100 of 350\n",
      "building tree 101 of 350\n",
      "building tree 102 of 350\n",
      "building tree 103 of 350\n",
      "building tree 104 of 350\n",
      "building tree 105 of 350\n",
      "building tree 106 of 350\n",
      "building tree 107 of 350\n",
      "building tree 108 of 350\n",
      "building tree 109 of 350\n",
      "building tree 110 of 350\n",
      "building tree 111 of 350\n",
      "building tree 112 of 350\n",
      "building tree 113 of 350\n",
      "building tree 114 of 350\n",
      "building tree 115 of 350\n",
      "building tree 116 of 350\n",
      "building tree 117 of 350\n",
      "building tree 118 of 350\n",
      "building tree 119 of 350\n",
      "building tree 120 of 350\n"
     ]
    },
    {
     "name": "stderr",
     "output_type": "stream",
     "text": [
      "[Parallel(n_jobs=-1)]: Done 112 tasks      | elapsed:  1.1min\n"
     ]
    },
    {
     "name": "stdout",
     "output_type": "stream",
     "text": [
      "building tree 121 of 350\n",
      "building tree 122 of 350\n",
      "building tree 123 of 350\n",
      "building tree 124 of 350\n",
      "building tree 125 of 350\n",
      "building tree 126 of 350\n",
      "building tree 127 of 350\n",
      "building tree 128 of 350\n",
      "building tree 129 of 350\n",
      "building tree 130 of 350\n",
      "building tree 131 of 350\n",
      "building tree 132 of 350\n",
      "building tree 133 of 350\n",
      "building tree 134 of 350\n",
      "building tree 135 of 350\n",
      "building tree 136 of 350\n",
      "building tree 137 of 350\n",
      "building tree 138 of 350\n",
      "building tree 139 of 350\n",
      "building tree 140 of 350\n",
      "building tree 141 of 350\n",
      "building tree 142 of 350\n",
      "building tree 143 of 350\n",
      "building tree 144 of 350\n",
      "building tree 145 of 350\n",
      "building tree 146 of 350\n",
      "building tree 147 of 350\n",
      "building tree 148 of 350\n",
      "building tree 149 of 350\n",
      "building tree 150 of 350\n",
      "building tree 151 of 350\n",
      "building tree 152 of 350\n",
      "building tree 153 of 350\n",
      "building tree 154 of 350\n",
      "building tree 155 of 350\n",
      "building tree 156 of 350\n",
      "building tree 157 of 350\n",
      "building tree 158 of 350\n",
      "building tree 159 of 350\n",
      "building tree 160 of 350\n",
      "building tree 161 of 350\n",
      "building tree 162 of 350\n",
      "building tree 163 of 350\n",
      "building tree 164 of 350\n",
      "building tree 165 of 350\n",
      "building tree 166 of 350\n",
      "building tree 167 of 350\n",
      "building tree 168 of 350\n",
      "building tree 169 of 350\n",
      "building tree 170 of 350\n",
      "building tree 171 of 350\n",
      "building tree 172 of 350\n",
      "building tree 173 of 350\n",
      "building tree 174 of 350\n",
      "building tree 175 of 350\n",
      "building tree 176 of 350\n",
      "building tree 177 of 350\n",
      "building tree 178 of 350\n",
      "building tree 179 of 350\n",
      "building tree 180 of 350\n",
      "building tree 181 of 350\n",
      "building tree 182 of 350\n",
      "building tree 183 of 350\n",
      "building tree 184 of 350\n",
      "building tree 185 of 350\n",
      "building tree 186 of 350\n",
      "building tree 187 of 350\n",
      "building tree 188 of 350\n",
      "building tree 189 of 350\n",
      "building tree 190 of 350\n",
      "building tree 191 of 350\n",
      "building tree 192 of 350\n",
      "building tree 193 of 350\n",
      "building tree 194 of 350\n",
      "building tree 195 of 350\n",
      "building tree 196 of 350\n",
      "building tree 197 of 350\n",
      "building tree 198 of 350\n",
      "building tree 199 of 350\n",
      "building tree 200 of 350\n",
      "building tree 201 of 350\n",
      "building tree 202 of 350\n",
      "building tree 203 of 350\n",
      "building tree 204 of 350\n",
      "building tree 205 of 350\n",
      "building tree 206 of 350\n",
      "building tree 207 of 350\n",
      "building tree 208 of 350\n",
      "building tree 209 of 350\n",
      "building tree 210 of 350\n",
      "building tree 211 of 350\n",
      "building tree 212 of 350\n",
      "building tree 213 of 350\n",
      "building tree 214 of 350\n",
      "building tree 215 of 350\n",
      "building tree 216 of 350\n",
      "building tree 217 of 350\n",
      "building tree 218 of 350\n",
      "building tree 219 of 350\n",
      "building tree 220 of 350\n",
      "building tree 221 of 350\n",
      "building tree 222 of 350\n",
      "building tree 223 of 350\n",
      "building tree 224 of 350\n",
      "building tree 225 of 350\n",
      "building tree 226 of 350\n",
      "building tree 227 of 350\n",
      "building tree 228 of 350\n",
      "building tree 229 of 350\n",
      "building tree 230 of 350\n",
      "building tree 231 of 350\n",
      "building tree 232 of 350\n",
      "building tree 233 of 350\n",
      "building tree 234 of 350\n",
      "building tree 235 of 350\n",
      "building tree 236 of 350\n",
      "building tree 237 of 350\n",
      "building tree 238 of 350\n",
      "building tree 239 of 350\n",
      "building tree 240 of 350\n",
      "building tree 241 of 350\n",
      "building tree 242 of 350\n",
      "building tree 243 of 350\n",
      "building tree 244 of 350\n",
      "building tree 245 of 350\n",
      "building tree 246 of 350\n",
      "building tree 247 of 350\n",
      "building tree 248 of 350\n",
      "building tree 249 of 350\n",
      "building tree 250 of 350\n",
      "building tree 251 of 350\n",
      "building tree 252 of 350\n",
      "building tree 253 of 350\n",
      "building tree 254 of 350\n",
      "building tree 255 of 350\n",
      "building tree 256 of 350\n",
      "building tree 257 of 350\n",
      "building tree 258 of 350\n",
      "building tree 259 of 350\n",
      "building tree 260 of 350\n",
      "building tree 261 of 350\n",
      "building tree 262 of 350\n",
      "building tree 263 of 350\n",
      "building tree 264 of 350\n",
      "building tree 265 of 350\n",
      "building tree 266 of 350\n",
      "building tree 267 of 350\n",
      "building tree 268 of 350\n",
      "building tree 269 of 350\n",
      "building tree 270 of 350\n",
      "building tree 271 of 350\n",
      "building tree 272 of 350\n",
      "building tree 273 of 350\n",
      "building tree 274 of 350\n",
      "building tree 275 of 350\n",
      "building tree 276 of 350\n",
      "building tree 277 of 350\n",
      "building tree 278 of 350\n",
      "building tree 279 of 350\n",
      "building tree 280 of 350\n",
      "building tree 281 of 350\n"
     ]
    },
    {
     "name": "stderr",
     "output_type": "stream",
     "text": [
      "[Parallel(n_jobs=-1)]: Done 272 tasks      | elapsed:  2.5min\n"
     ]
    },
    {
     "name": "stdout",
     "output_type": "stream",
     "text": [
      "building tree 282 of 350\n",
      "building tree 283 of 350\n",
      "building tree 284 of 350\n",
      "building tree 285 of 350\n",
      "building tree 286 of 350\n",
      "building tree 287 of 350\n",
      "building tree 288 of 350\n",
      "building tree 289 of 350\n",
      "building tree 290 of 350\n",
      "building tree 291 of 350\n",
      "building tree 292 of 350\n",
      "building tree 293 of 350\n",
      "building tree 294 of 350\n",
      "building tree 295 of 350\n",
      "building tree 296 of 350\n",
      "building tree 297 of 350\n",
      "building tree 298 of 350\n",
      "building tree 299 of 350\n",
      "building tree 300 of 350\n",
      "building tree 301 of 350\n",
      "building tree 302 of 350\n",
      "building tree 303 of 350\n",
      "building tree 304 of 350\n",
      "building tree 305 of 350\n",
      "building tree 306 of 350\n",
      "building tree 307 of 350\n",
      "building tree 308 of 350\n",
      "building tree 309 of 350\n",
      "building tree 310 of 350\n",
      "building tree 311 of 350\n",
      "building tree 312 of 350\n",
      "building tree 313 of 350\n",
      "building tree 314 of 350\n",
      "building tree 315 of 350\n",
      "building tree 316 of 350\n",
      "building tree 317 of 350\n",
      "building tree 318 of 350\n",
      "building tree 319 of 350\n",
      "building tree 320 of 350\n",
      "building tree 321 of 350\n",
      "building tree 322 of 350\n",
      "building tree 323 of 350\n",
      "building tree 324 of 350\n",
      "building tree 325 of 350\n",
      "building tree 326 of 350\n",
      "building tree 327 of 350\n",
      "building tree 328 of 350\n",
      "building tree 329 of 350\n",
      "building tree 330 of 350\n",
      "building tree 331 of 350\n",
      "building tree 332 of 350\n",
      "building tree 333 of 350\n",
      "building tree 334 of 350\n",
      "building tree 335 of 350\n",
      "building tree 336 of 350\n",
      "building tree 337 of 350\n",
      "building tree 338 of 350\n",
      "building tree 339 of 350\n",
      "building tree 340 of 350\n",
      "building tree 341 of 350\n",
      "building tree 342 of 350\n",
      "building tree 343 of 350\n",
      "building tree 344 of 350\n",
      "building tree 345 of 350\n",
      "building tree 346 of 350\n",
      "building tree 347 of 350\n",
      "building tree 348 of 350\n",
      "building tree 349 of 350\n",
      "building tree 350 of 350\n"
     ]
    },
    {
     "name": "stderr",
     "output_type": "stream",
     "text": [
      "[Parallel(n_jobs=-1)]: Done 350 out of 350 | elapsed:  3.2min finished\n"
     ]
    },
    {
     "data": {
      "text/plain": [
       "RandomForestRegressor(bootstrap=True, criterion='mse', max_depth=None,\n",
       "           max_features='sqrt', max_leaf_nodes=None, min_samples_leaf=1,\n",
       "           min_samples_split=2, min_weight_fraction_leaf=0.0,\n",
       "           n_estimators=350, n_jobs=-1, oob_score=False, random_state=42,\n",
       "           verbose=3, warm_start=False)"
      ]
     },
     "execution_count": 24,
     "metadata": {},
     "output_type": "execute_result"
    }
   ],
   "source": [
    "# fit model\n",
    "rft.fit(X,y_log)\n",
    "# rft_pred = rft.predict(X_test)"
   ]
  },
  {
   "cell_type": "code",
   "execution_count": 25,
   "metadata": {
    "collapsed": false
   },
   "outputs": [
    {
     "name": "stderr",
     "output_type": "stream",
     "text": [
      "[Parallel(n_jobs=8)]: Done  16 tasks      | elapsed:    1.2s\n",
      "[Parallel(n_jobs=8)]: Done 112 tasks      | elapsed:    7.9s\n",
      "[Parallel(n_jobs=8)]: Done 272 tasks      | elapsed:   18.3s\n",
      "[Parallel(n_jobs=8)]: Done 350 out of 350 | elapsed:   20.2s finished\n"
     ]
    }
   ],
   "source": [
    "# predict and output\n",
    "y_pred_log = rft.predict(test)\n",
    "y_pred = np.exp(y_pred_log)"
   ]
  },
  {
   "cell_type": "code",
   "execution_count": 26,
   "metadata": {
    "collapsed": false
   },
   "outputs": [
    {
     "data": {
      "text/plain": [
       "array([ 1789.00838472,  1931.21138983,  7217.71386255, ...,  2457.66501717,\n",
       "        1024.04463757,  3753.54493233])"
      ]
     },
     "execution_count": 26,
     "metadata": {},
     "output_type": "execute_result"
    }
   ],
   "source": [
    "y_pred"
   ]
  },
  {
   "cell_type": "code",
   "execution_count": 27,
   "metadata": {
    "collapsed": false
   },
   "outputs": [
    {
     "data": {
      "text/plain": [
       "125546"
      ]
     },
     "execution_count": 27,
     "metadata": {},
     "output_type": "execute_result"
    }
   ],
   "source": [
    "len(y_pred)"
   ]
  },
  {
   "cell_type": "code",
   "execution_count": 28,
   "metadata": {
    "collapsed": false
   },
   "outputs": [],
   "source": [
    "export = pd.DataFrame({\"id\":test_id,\"loss\":y_pred})"
   ]
  },
  {
   "cell_type": "code",
   "execution_count": 29,
   "metadata": {
    "collapsed": false
   },
   "outputs": [],
   "source": [
    "export.to_csv(\"../Sub/submission2.csv\",index=False)"
   ]
  }
 ],
 "metadata": {
  "anaconda-cloud": {},
  "kernelspec": {
   "display_name": "Python [Root]",
   "language": "python",
   "name": "Python [Root]"
  },
  "language_info": {
   "codemirror_mode": {
    "name": "ipython",
    "version": 3
   },
   "file_extension": ".py",
   "mimetype": "text/x-python",
   "name": "python",
   "nbconvert_exporter": "python",
   "pygments_lexer": "ipython3",
   "version": "3.5.2"
  }
 },
 "nbformat": 4,
 "nbformat_minor": 0
}
