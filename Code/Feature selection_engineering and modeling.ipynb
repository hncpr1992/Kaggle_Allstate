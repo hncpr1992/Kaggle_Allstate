{
 "cells": [
  {
   "cell_type": "markdown",
   "metadata": {},
   "source": [
    "# Need to check\n",
    "1.Log transformation on response(yes) <br>\n",
    "2.Log transformation on cont(no)<br>\n",
    "3.Feature engineering and Feature selection<br>\n",
    "* Categorize Cont\n",
    "* Remove some Cat"
   ]
  },
  {
   "cell_type": "code",
   "execution_count": 1,
   "metadata": {
    "collapsed": false
   },
   "outputs": [],
   "source": [
    "import numpy as np\n",
    "import pandas as pd\n",
    "import matplotlib.pyplot as plt\n",
    "import seaborn as sns\n",
    "%matplotlib inline\n",
    "import warnings\n",
    "warnings.filterwarnings('ignore')\n",
    "pd.options.display.max_columns = 200\n",
    "pd.options.display.max_rows = 200\n",
    "\n",
    "from sklearn.cross_validation import train_test_split"
   ]
  },
  {
   "cell_type": "code",
   "execution_count": 2,
   "metadata": {
    "collapsed": true
   },
   "outputs": [],
   "source": [
    "train = pd.read_csv(\"../Data/train.csv\")\n",
    "test = pd.read_csv(\"../Data/test.csv\")"
   ]
  },
  {
   "cell_type": "code",
   "execution_count": 3,
   "metadata": {
    "collapsed": true
   },
   "outputs": [],
   "source": [
    "del train[\"id\"]\n",
    "del test[\"id\"]"
   ]
  },
  {
   "cell_type": "markdown",
   "metadata": {},
   "source": [
    "# Feature engineering"
   ]
  },
  {
   "cell_type": "markdown",
   "metadata": {},
   "source": [
    "Feature selection on cat\n",
    "\n",
    "remove all variables with ratio over 0.98"
   ]
  },
  {
   "cell_type": "code",
   "execution_count": 4,
   "metadata": {
    "collapsed": false
   },
   "outputs": [],
   "source": [
    "catFeature = []\n",
    "for i in range(1,116):\n",
    "    catFeature.append(\"cat%i\" % i)\n",
    "    \n",
    "ratio = []\n",
    "\n",
    "for col in catFeature:\n",
    "    max_ratio = train[col].value_counts().max()/len(train[col])\n",
    "    ratio.append(max_ratio)"
   ]
  },
  {
   "cell_type": "code",
   "execution_count": 5,
   "metadata": {
    "collapsed": false
   },
   "outputs": [],
   "source": [
    "rmFeature = np.array(catFeature)[np.array(ratio)>=1]"
   ]
  },
  {
   "cell_type": "code",
   "execution_count": 6,
   "metadata": {
    "collapsed": false
   },
   "outputs": [],
   "source": [
    "for i in rmFeature:\n",
    "    del train[i]\n",
    "    del test[i]    "
   ]
  },
  {
   "cell_type": "markdown",
   "metadata": {},
   "source": [
    "Modify variables with many categories"
   ]
  },
  {
   "cell_type": "code",
   "execution_count": 7,
   "metadata": {
    "collapsed": false
   },
   "outputs": [],
   "source": [
    "train[\"cat109\"] = train[\"cat109\"].apply(lambda x: \"other\" if x not in (\"BI\",\"AB\") else x)\n",
    "\n",
    "cat_110_domi = train.cat110.value_counts().index[(train.cat110.value_counts()/len(train.cat109))>0.01].values\n",
    "train[\"cat110\"] = train[\"cat110\"].apply(lambda x: \"other\" if x not in cat_110_domi else x)\n",
    "\n",
    "cat_113_domi = train.cat113.value_counts().index[(train.cat113.value_counts()/len(train.cat113))>0.005].values\n",
    "train[\"cat113\"] = train[\"cat113\"].apply(lambda x: \"other\" if x not in cat_113_domi else x)"
   ]
  },
  {
   "cell_type": "markdown",
   "metadata": {},
   "source": [
    "Take log of y"
   ]
  },
  {
   "cell_type": "code",
   "execution_count": 8,
   "metadata": {
    "collapsed": true
   },
   "outputs": [],
   "source": [
    "# train[\"loss\"] = log(train[\"loss\"])"
   ]
  },
  {
   "cell_type": "code",
   "execution_count": 9,
   "metadata": {
    "collapsed": false
   },
   "outputs": [],
   "source": [
    "X = train.ix[:,:-1]\n",
    "y = train.ix[:,-1]"
   ]
  },
  {
   "cell_type": "markdown",
   "metadata": {},
   "source": [
    "Taking log on the insurance data will not give much influence on the error, from the eda, we see that the continuous variables do not have linear relation with the response, we need to categorize them."
   ]
  },
  {
   "cell_type": "code",
   "execution_count": 10,
   "metadata": {
    "collapsed": true
   },
   "outputs": [],
   "source": [
    "breakpoint_normal = [-0.01,0.1,0.2,0.3,0.4,0.5,0.6,0.7,0.8,0.9,1.0]\n",
    "breakpoint2 = [-0.01,0.1,0.2,0.3,0.4,0.5,0.6,0.7,0.8,1.0]\n",
    "breakpoint4 = [-0.01,0.2,0.3,0.4,0.5,0.6,0.7,0.8,0.9,1.0]\n",
    "breakpoint5 = [-0.01,0.3,0.4,0.5,0.6,0.7,0.8,0.9,1.0]\n",
    "breakpoint8 = [-0.01,0.3,0.4,0.5,0.6,0.7,0.8,0.9,1.0]\n",
    "breakpoint14 = [-0.01,0.2,0.3,0.4,0.5,0.6,0.7,0.8,1.0]\n",
    "breakpoint_special = [breakpoint2,breakpoint4,breakpoint5,breakpoint8,breakpoint14]"
   ]
  },
  {
   "cell_type": "code",
   "execution_count": 11,
   "metadata": {
    "collapsed": true
   },
   "outputs": [],
   "source": [
    "columns_normal_cut = ['cont1', 'cont3', 'cont6', 'cont7', 'cont9', 'cont10', 'cont11', 'cont12', 'cont13',]\n",
    "columns_special_cut = ['cont2','cont4','cont5','cont8','cont14']"
   ]
  },
  {
   "cell_type": "code",
   "execution_count": 12,
   "metadata": {
    "collapsed": true
   },
   "outputs": [],
   "source": [
    "# normal cut\n",
    "for i in columns_normal_cut:\n",
    "    X[i] = pd.cut(X[i],breakpoint_normal)\n",
    "\n",
    "# special cut\n",
    "k = 0\n",
    "for i in columns_special_cut:\n",
    "    X[i] = pd.cut(X[i],breakpoint_special[k])"
   ]
  },
  {
   "cell_type": "code",
   "execution_count": 13,
   "metadata": {
    "collapsed": false
   },
   "outputs": [],
   "source": [
    "# transform the cats to dummy\n",
    "obj = X.dtypes.index[X.dtypes==\"category\"]\n",
    "for i in obj:\n",
    "    new_cat = pd.get_dummies(X[i],prefix=i,drop_first=True)\n",
    "    del X[i]\n",
    "    X = pd.concat([X,new_cat],axis = 1)"
   ]
  },
  {
   "cell_type": "code",
   "execution_count": 14,
   "metadata": {
    "collapsed": false
   },
   "outputs": [],
   "source": [
    "# transform the cats to dummy\n",
    "obj = X.dtypes.index[X.dtypes==\"object\"]\n",
    "for i in obj:\n",
    "    new_cat = pd.get_dummies(X[i],prefix=i,drop_first=True)\n",
    "    del X[i]\n",
    "    X = pd.concat([X,new_cat],axis = 1)"
   ]
  },
  {
   "cell_type": "code",
   "execution_count": 15,
   "metadata": {
    "collapsed": true
   },
   "outputs": [],
   "source": [
    "# Train test split\n",
    "X_train,X_test,y_train,y_test = train_test_split(X,y,test_size=0.2, random_state=42)"
   ]
  },
  {
   "cell_type": "code",
   "execution_count": 16,
   "metadata": {
    "collapsed": false
   },
   "outputs": [
    {
     "ename": "NameError",
     "evalue": "name 'stop' is not defined",
     "output_type": "error",
     "traceback": [
      "\u001b[1;31m---------------------------------------------------------------------------\u001b[0m",
      "\u001b[1;31mNameError\u001b[0m                                 Traceback (most recent call last)",
      "\u001b[1;32m<ipython-input-16-30d9529ff51c>\u001b[0m in \u001b[0;36m<module>\u001b[1;34m()\u001b[0m\n\u001b[1;32m----> 1\u001b[1;33m \u001b[0mstop\u001b[0m\u001b[1;33m\u001b[0m\u001b[0m\n\u001b[0m",
      "\u001b[1;31mNameError\u001b[0m: name 'stop' is not defined"
     ]
    }
   ],
   "source": [
    "stop"
   ]
  },
  {
   "cell_type": "markdown",
   "metadata": {},
   "source": [
    "# Model"
   ]
  },
  {
   "cell_type": "code",
   "execution_count": null,
   "metadata": {
    "collapsed": true
   },
   "outputs": [],
   "source": [
    "# build random forest\n",
    "from sklearn.ensemble import RandomForestRegressor\n",
    "\n",
    "rft = RandomForestRegressor(n_estimators=350, max_features=\"sqrt\", criterion='mse',\n",
    "                            n_jobs=-1, random_state=42, verbose=3)"
   ]
  },
  {
   "cell_type": "code",
   "execution_count": null,
   "metadata": {
    "collapsed": false,
    "scrolled": true
   },
   "outputs": [],
   "source": [
    "rft.fit(X_train,y_train)\n",
    "rft_pred = rft.predict(X_test)\n",
    "err = abs(rft_pred-y_test).mean()"
   ]
  },
  {
   "cell_type": "code",
   "execution_count": null,
   "metadata": {
    "collapsed": false
   },
   "outputs": [],
   "source": [
    "# err feature selection"
   ]
  },
  {
   "cell_type": "code",
   "execution_count": null,
   "metadata": {
    "collapsed": false
   },
   "outputs": [],
   "source": [
    "# err 350 sqrt the best right now 1226.0620695749944"
   ]
  },
  {
   "cell_type": "code",
   "execution_count": null,
   "metadata": {
    "collapsed": false
   },
   "outputs": [],
   "source": [
    "# err 350 log2 1269.750625661697"
   ]
  },
  {
   "cell_type": "code",
   "execution_count": null,
   "metadata": {
    "collapsed": false
   },
   "outputs": [],
   "source": [
    "# err 300 sqrt 1226.7914547125808"
   ]
  },
  {
   "cell_type": "code",
   "execution_count": null,
   "metadata": {
    "collapsed": false
   },
   "outputs": [],
   "source": [
    "# err max_feature = log2"
   ]
  },
  {
   "cell_type": "code",
   "execution_count": null,
   "metadata": {
    "collapsed": false
   },
   "outputs": [],
   "source": [
    "# err max_feature = sqrt"
   ]
  },
  {
   "cell_type": "code",
   "execution_count": null,
   "metadata": {
    "collapsed": false
   },
   "outputs": [],
   "source": [
    "# err max_depth=8"
   ]
  },
  {
   "cell_type": "code",
   "execution_count": null,
   "metadata": {
    "collapsed": false
   },
   "outputs": [],
   "source": [
    "# err no constrain"
   ]
  },
  {
   "cell_type": "markdown",
   "metadata": {},
   "source": [
    "# With the best forest structure, I will check the effect of different feature engineerings and try to achieve a good result"
   ]
  },
  {
   "cell_type": "markdown",
   "metadata": {},
   "source": [
    "1.take log of the response"
   ]
  },
  {
   "cell_type": "code",
   "execution_count": 17,
   "metadata": {
    "collapsed": true
   },
   "outputs": [],
   "source": [
    "# build random forest\n",
    "from sklearn.ensemble import RandomForestRegressor\n",
    "\n",
    "rft = RandomForestRegressor(n_estimators=350, max_features=\"sqrt\", criterion='mse',\n",
    "                            n_jobs=-1, random_state=42, verbose=3)"
   ]
  },
  {
   "cell_type": "code",
   "execution_count": 18,
   "metadata": {
    "collapsed": true
   },
   "outputs": [],
   "source": [
    "y_log_train = np.log(y_train)"
   ]
  },
  {
   "cell_type": "code",
   "execution_count": 19,
   "metadata": {
    "collapsed": false,
    "scrolled": true
   },
   "outputs": [
    {
     "name": "stdout",
     "output_type": "stream",
     "text": [
      "building tree 1 of 350\n",
      "building tree 2 of 350\n",
      "building tree 3 of 350\n",
      "building tree 4 of 350\n",
      "building tree 5 of 350\n",
      "building tree 6 of 350\n",
      "building tree 7 of 350\n",
      "building tree 8 of 350\n",
      "building tree 9 of 350\n",
      "building tree 10 of 350\n",
      "building tree 11 of 350\n",
      "building tree 12 of 350\n",
      "building tree 13 of 350\n",
      "building tree 14 of 350\n",
      "building tree 15 of 350\n",
      "building tree 16 of 350\n",
      "building tree 17 of 350\n",
      "building tree 18 of 350\n",
      "building tree 19 of 350\n",
      "building tree 20 of 350\n",
      "building tree 21 of 350\n",
      "building tree 22 of 350\n",
      "building tree 23 of 350\n",
      "building tree 24 of 350\n"
     ]
    },
    {
     "name": "stderr",
     "output_type": "stream",
     "text": [
      "[Parallel(n_jobs=-1)]: Done  16 tasks      | elapsed:    7.3s\n"
     ]
    },
    {
     "name": "stdout",
     "output_type": "stream",
     "text": [
      "building tree 25 of 350\n",
      "building tree 26 of 350\n",
      "building tree 27 of 350\n",
      "building tree 28 of 350\n",
      "building tree 29 of 350\n",
      "building tree 30 of 350\n",
      "building tree 31 of 350\n",
      "building tree 32 of 350\n",
      "building tree 33 of 350\n",
      "building tree 34 of 350\n",
      "building tree 35 of 350\n",
      "building tree 36 of 350\n",
      "building tree 37 of 350\n",
      "building tree 38 of 350\n",
      "building tree 39 of 350\n",
      "building tree 40 of 350\n",
      "building tree 41 of 350\n",
      "building tree 42 of 350\n",
      "building tree 43 of 350\n",
      "building tree 44 of 350\n",
      "building tree 45 of 350\n",
      "building tree 46 of 350\n",
      "building tree 47 of 350\n",
      "building tree 48 of 350\n",
      "building tree 49 of 350\n",
      "building tree 50 of 350\n",
      "building tree 51 of 350\n",
      "building tree 52 of 350\n",
      "building tree 53 of 350\n",
      "building tree 54 of 350\n",
      "building tree 55 of 350\n",
      "building tree 56 of 350\n",
      "building tree 57 of 350\n",
      "building tree 58 of 350\n",
      "building tree 59 of 350\n",
      "building tree 60 of 350\n",
      "building tree 61 of 350\n",
      "building tree 62 of 350\n",
      "building tree 63 of 350\n",
      "building tree 64 of 350\n",
      "building tree 65 of 350\n",
      "building tree 66 of 350\n",
      "building tree 67 of 350\n",
      "building tree 68 of 350\n",
      "building tree 69 of 350\n",
      "building tree 70 of 350\n",
      "building tree 71 of 350\n",
      "building tree 72 of 350\n",
      "building tree 73 of 350\n",
      "building tree 74 of 350\n",
      "building tree 75 of 350\n",
      "building tree 76 of 350\n",
      "building tree 77 of 350\n",
      "building tree 78 of 350\n",
      "building tree 79 of 350\n",
      "building tree 80 of 350\n",
      "building tree 81 of 350\n",
      "building tree 82 of 350\n",
      "building tree 83 of 350\n",
      "building tree 84 of 350\n",
      "building tree 85 of 350\n",
      "building tree 86 of 350\n",
      "building tree 87 of 350\n",
      "building tree 88 of 350\n",
      "building tree 89 of 350\n",
      "building tree 90 of 350\n",
      "building tree 91 of 350\n",
      "building tree 92 of 350\n",
      "building tree 93 of 350\n",
      "building tree 94 of 350\n",
      "building tree 95 of 350\n",
      "building tree 96 of 350\n",
      "building tree 97 of 350\n",
      "building tree 98 of 350\n",
      "building tree 99 of 350\n",
      "building tree 100 of 350\n",
      "building tree 101 of 350\n",
      "building tree 102 of 350\n",
      "building tree 103 of 350\n",
      "building tree 104 of 350\n",
      "building tree 105 of 350\n",
      "building tree 106 of 350\n",
      "building tree 107 of 350\n",
      "building tree 108 of 350\n",
      "building tree 109 of 350\n",
      "building tree 110 of 350\n",
      "building tree 111 of 350\n",
      "building tree 112 of 350\n",
      "building tree 113 of 350\n",
      "building tree 114 of 350\n",
      "building tree 115 of 350\n",
      "building tree 116 of 350\n",
      "building tree 117 of 350\n",
      "building tree 118 of 350\n",
      "building tree 119 of 350\n",
      "building tree 120 of 350\n",
      "building tree 121 of 350\n"
     ]
    },
    {
     "name": "stderr",
     "output_type": "stream",
     "text": [
      "[Parallel(n_jobs=-1)]: Done 112 tasks      | elapsed:   46.8s\n"
     ]
    },
    {
     "name": "stdout",
     "output_type": "stream",
     "text": [
      "building tree 122 of 350\n",
      "building tree 123 of 350\n",
      "building tree 124 of 350\n",
      "building tree 125 of 350\n",
      "building tree 126 of 350\n",
      "building tree 127 of 350\n",
      "building tree 128 of 350\n",
      "building tree 129 of 350\n",
      "building tree 130 of 350\n",
      "building tree 131 of 350\n",
      "building tree 132 of 350\n",
      "building tree 133 of 350\n",
      "building tree 134 of 350\n",
      "building tree 135 of 350\n",
      "building tree 136 of 350\n",
      "building tree 137 of 350\n",
      "building tree 138 of 350\n",
      "building tree 139 of 350\n",
      "building tree 140 of 350\n",
      "building tree 141 of 350\n",
      "building tree 142 of 350\n",
      "building tree 143 of 350\n",
      "building tree 144 of 350\n",
      "building tree 145 of 350\n",
      "building tree 146 of 350\n",
      "building tree 147 of 350\n",
      "building tree 148 of 350\n",
      "building tree 149 of 350\n",
      "building tree 150 of 350\n",
      "building tree 151 of 350\n",
      "building tree 152 of 350\n",
      "building tree 153 of 350\n",
      "building tree 154 of 350\n",
      "building tree 155 of 350\n",
      "building tree 156 of 350\n",
      "building tree 157 of 350\n",
      "building tree 158 of 350\n",
      "building tree 159 of 350\n",
      "building tree 160 of 350\n",
      "building tree 161 of 350\n",
      "building tree 162 of 350\n",
      "building tree 163 of 350\n",
      "building tree 164 of 350\n",
      "building tree 165 of 350\n",
      "building tree 166 of 350\n",
      "building tree 167 of 350\n",
      "building tree 168 of 350\n",
      "building tree 169 of 350\n",
      "building tree 170 of 350\n",
      "building tree 171 of 350\n",
      "building tree 172 of 350\n",
      "building tree 173 of 350\n",
      "building tree 174 of 350\n",
      "building tree 175 of 350\n",
      "building tree 176 of 350\n",
      "building tree 177 of 350\n",
      "building tree 178 of 350\n",
      "building tree 179 of 350\n",
      "building tree 180 of 350\n",
      "building tree 181 of 350\n",
      "building tree 182 of 350\n",
      "building tree 183 of 350\n",
      "building tree 184 of 350\n",
      "building tree 185 of 350\n",
      "building tree 186 of 350\n",
      "building tree 187 of 350\n",
      "building tree 188 of 350\n",
      "building tree 189 of 350\n",
      "building tree 190 of 350\n",
      "building tree 191 of 350\n",
      "building tree 192 of 350\n",
      "building tree 193 of 350\n",
      "building tree 194 of 350\n",
      "building tree 195 of 350\n",
      "building tree 196 of 350\n",
      "building tree 197 of 350\n",
      "building tree 198 of 350\n",
      "building tree 199 of 350\n",
      "building tree 200 of 350\n",
      "building tree 201 of 350\n",
      "building tree 202 of 350\n",
      "building tree 203 of 350\n",
      "building tree 204 of 350\n",
      "building tree 205 of 350\n",
      "building tree 206 of 350\n",
      "building tree 207 of 350\n",
      "building tree 208 of 350\n",
      "building tree 209 of 350\n",
      "building tree 210 of 350\n",
      "building tree 211 of 350\n",
      "building tree 212 of 350\n",
      "building tree 213 of 350\n",
      "building tree 214 of 350\n",
      "building tree 215 of 350\n",
      "building tree 216 of 350\n",
      "building tree 217 of 350\n",
      "building tree 218 of 350\n",
      "building tree 219 of 350\n",
      "building tree 220 of 350\n",
      "building tree 221 of 350\n",
      "building tree 222 of 350\n",
      "building tree 223 of 350\n",
      "building tree 224 of 350\n",
      "building tree 225 of 350\n",
      "building tree 226 of 350\n",
      "building tree 227 of 350\n",
      "building tree 228 of 350\n",
      "building tree 229 of 350\n",
      "building tree 230 of 350\n",
      "building tree 231 of 350\n",
      "building tree 232 of 350\n",
      "building tree 233 of 350\n",
      "building tree 234 of 350\n",
      "building tree 235 of 350\n",
      "building tree 236 of 350\n",
      "building tree 237 of 350\n",
      "building tree 238 of 350\n",
      "building tree 239 of 350\n",
      "building tree 240 of 350\n",
      "building tree 241 of 350\n",
      "building tree 242 of 350\n",
      "building tree 243 of 350\n",
      "building tree 244 of 350\n",
      "building tree 245 of 350\n",
      "building tree 246 of 350\n",
      "building tree 247 of 350\n",
      "building tree 248 of 350\n",
      "building tree 249 of 350\n",
      "building tree 250 of 350\n",
      "building tree 251 of 350\n",
      "building tree 252 of 350\n",
      "building tree 253 of 350\n",
      "building tree 254 of 350\n",
      "building tree 255 of 350\n",
      "building tree 256 of 350\n",
      "building tree 257 of 350\n",
      "building tree 258 of 350\n",
      "building tree 259 of 350\n",
      "building tree 260 of 350\n",
      "building tree 261 of 350\n",
      "building tree 262 of 350\n",
      "building tree 263 of 350\n",
      "building tree 264 of 350\n",
      "building tree 265 of 350\n",
      "building tree 266 of 350\n",
      "building tree 267 of 350\n",
      "building tree 268 of 350\n",
      "building tree 269 of 350\n",
      "building tree 270 of 350\n",
      "building tree 271 of 350\n",
      "building tree 272 of 350\n",
      "building tree 273 of 350\n",
      "building tree 274 of 350\n",
      "building tree 275 of 350\n",
      "building tree 276 of 350\n",
      "building tree 277 of 350\n",
      "building tree 278 of 350\n",
      "building tree 279 of 350\n",
      "building tree 280 of 350\n"
     ]
    },
    {
     "name": "stderr",
     "output_type": "stream",
     "text": [
      "[Parallel(n_jobs=-1)]: Done 272 tasks      | elapsed:  1.8min\n"
     ]
    },
    {
     "name": "stdout",
     "output_type": "stream",
     "text": [
      "building tree 281 of 350\n",
      "building tree 282 of 350\n",
      "building tree 283 of 350\n",
      "building tree 284 of 350\n",
      "building tree 285 of 350\n",
      "building tree 286 of 350\n",
      "building tree 287 of 350\n",
      "building tree 288 of 350\n",
      "building tree 289 of 350\n",
      "building tree 290 of 350\n",
      "building tree 291 of 350\n",
      "building tree 292 of 350\n",
      "building tree 293 of 350\n",
      "building tree 294 of 350\n",
      "building tree 295 of 350\n",
      "building tree 296 of 350\n",
      "building tree 297 of 350\n",
      "building tree 298 of 350\n",
      "building tree 299 of 350\n",
      "building tree 300 of 350\n",
      "building tree 301 of 350\n",
      "building tree 302 of 350\n",
      "building tree 303 of 350\n",
      "building tree 304 of 350\n",
      "building tree 305 of 350\n",
      "building tree 306 of 350\n",
      "building tree 307 of 350\n",
      "building tree 308 of 350\n",
      "building tree 309 of 350\n",
      "building tree 310 of 350\n",
      "building tree 311 of 350\n",
      "building tree 312 of 350\n",
      "building tree 313 of 350\n",
      "building tree 314 of 350\n",
      "building tree 315 of 350\n",
      "building tree 316 of 350\n",
      "building tree 317 of 350\n",
      "building tree 318 of 350\n",
      "building tree 319 of 350\n",
      "building tree 320 of 350\n",
      "building tree 321 of 350\n",
      "building tree 322 of 350\n",
      "building tree 323 of 350\n",
      "building tree 324 of 350\n",
      "building tree 325 of 350\n",
      "building tree 326 of 350\n",
      "building tree 327 of 350\n",
      "building tree 328 of 350\n",
      "building tree 329 of 350\n",
      "building tree 330 of 350\n",
      "building tree 331 of 350\n",
      "building tree 332 of 350\n",
      "building tree 333 of 350\n",
      "building tree 334 of 350\n",
      "building tree 335 of 350\n",
      "building tree 336 of 350\n",
      "building tree 337 of 350\n",
      "building tree 338 of 350\n",
      "building tree 339 of 350\n",
      "building tree 340 of 350\n",
      "building tree 341 of 350\n",
      "building tree 342 of 350\n",
      "building tree 343 of 350\n",
      "building tree 344 of 350\n",
      "building tree 345 of 350\n",
      "building tree 346 of 350\n",
      "building tree 347 of 350\n",
      "building tree 348 of 350\n",
      "building tree 349 of 350\n",
      "building tree 350 of 350\n"
     ]
    },
    {
     "name": "stderr",
     "output_type": "stream",
     "text": [
      "[Parallel(n_jobs=-1)]: Done 350 out of 350 | elapsed:  2.4min finished\n",
      "[Parallel(n_jobs=8)]: Done  16 tasks      | elapsed:    0.1s\n",
      "[Parallel(n_jobs=8)]: Done 112 tasks      | elapsed:    1.1s\n",
      "[Parallel(n_jobs=8)]: Done 272 tasks      | elapsed:    2.2s\n",
      "[Parallel(n_jobs=8)]: Done 350 out of 350 | elapsed:    2.7s finished\n"
     ]
    }
   ],
   "source": [
    "# fit model\n",
    "rft.fit(X_train,y_log_train)\n",
    "rft_pred = rft.predict(X_test)\n",
    "err = abs(np.exp(rft_pred)-y_test).mean()"
   ]
  },
  {
   "cell_type": "code",
   "execution_count": 20,
   "metadata": {
    "collapsed": false
   },
   "outputs": [
    {
     "data": {
      "text/plain": [
       "1215.5031190067557"
      ]
     },
     "execution_count": 20,
     "metadata": {},
     "output_type": "execute_result"
    }
   ],
   "source": [
    "err"
   ]
  },
  {
   "cell_type": "code",
   "execution_count": null,
   "metadata": {
    "collapsed": true
   },
   "outputs": [],
   "source": []
  },
  {
   "cell_type": "code",
   "execution_count": null,
   "metadata": {
    "collapsed": true
   },
   "outputs": [],
   "source": []
  }
 ],
 "metadata": {
  "kernelspec": {
   "display_name": "Python [Root]",
   "language": "python",
   "name": "Python [Root]"
  },
  "language_info": {
   "codemirror_mode": {
    "name": "ipython",
    "version": 3
   },
   "file_extension": ".py",
   "mimetype": "text/x-python",
   "name": "python",
   "nbconvert_exporter": "python",
   "pygments_lexer": "ipython3",
   "version": "3.5.2"
  }
 },
 "nbformat": 4,
 "nbformat_minor": 0
}
